{
 "cells": [
  {
   "cell_type": "markdown",
   "metadata": {},
   "source": [
    "## DSN  : Predicitve Model Notebook [Using Light GBM]\n",
    "**Author**:🧕🏿 Hasanat Owoseni \\\n",
    "**Date** : 14th October, 2019"
   ]
  },
  {
   "cell_type": "code",
   "execution_count": 20,
   "metadata": {},
   "outputs": [],
   "source": [
    "import numpy as np\n",
    "import pandas as pd\n",
    "import pickle\n",
    "%matplotlib inline"
   ]
  },
  {
   "cell_type": "code",
   "execution_count": 21,
   "metadata": {},
   "outputs": [],
   "source": [
    "test_df = pd.read_csv('cleaned_test.csv')\n",
    "train_df = pd.read_csv('cleaned_train.csv')"
   ]
  },
  {
   "cell_type": "code",
   "execution_count": 22,
   "metadata": {},
   "outputs": [
    {
     "name": "stdout",
     "output_type": "stream",
     "text": [
      "<class 'pandas.core.frame.DataFrame'>\n",
      "RangeIndex: 38312 entries, 0 to 38311\n",
      "Data columns (total 17 columns):\n",
      "trainings_attended          38312 non-null int64\n",
      "targets_met                 38312 non-null int64\n",
      "previous_award              38312 non-null int64\n",
      "training_score_average      38312 non-null int64\n",
      "no_of_previous_employers    38312 non-null int64\n",
      "promoted_or_not             38312 non-null int64\n",
      "age                         38312 non-null int64\n",
      "last_performance_score      38312 non-null float64\n",
      "working_for                 38312 non-null int64\n",
      "qualification               38312 non-null int64\n",
      "channel_of_recruitment      38312 non-null int64\n",
      "is_female                   38312 non-null int64\n",
      "schooled_abroad             38312 non-null int64\n",
      "is_married                  38312 non-null int64\n",
      "was_disciplined             38312 non-null int64\n",
      "was_moved                   38312 non-null int64\n",
      "division                    38312 non-null int64\n",
      "dtypes: float64(1), int64(16)\n",
      "memory usage: 5.0 MB\n",
      "<class 'pandas.core.frame.DataFrame'>\n",
      "RangeIndex: 16496 entries, 0 to 16495\n",
      "Data columns (total 16 columns):\n",
      "trainings_attended          16496 non-null int64\n",
      "targets_met                 16496 non-null int64\n",
      "previous_award              16496 non-null int64\n",
      "training_score_average      16496 non-null int64\n",
      "no_of_previous_employers    16496 non-null int64\n",
      "age                         16496 non-null int64\n",
      "last_performance_score      16496 non-null float64\n",
      "working_for                 16496 non-null int64\n",
      "qualification               16496 non-null int64\n",
      "channel_of_recruitment      16496 non-null int64\n",
      "is_female                   16496 non-null int64\n",
      "schooled_abroad             16496 non-null int64\n",
      "is_married                  16496 non-null int64\n",
      "was_disciplined             16496 non-null int64\n",
      "was_moved                   16496 non-null int64\n",
      "division                    16496 non-null int64\n",
      "dtypes: float64(1), int64(15)\n",
      "memory usage: 2.0 MB\n"
     ]
    }
   ],
   "source": [
    "test_df.drop(['Unnamed: 0'], axis = 1, inplace = True)\n",
    "train_df.drop(['Unnamed: 0'], axis = 1, inplace = True)\n",
    "train_df.info()\n",
    "test_df.info()"
   ]
  },
  {
   "cell_type": "code",
   "execution_count": 23,
   "metadata": {},
   "outputs": [],
   "source": [
    "df_test = pd.read_csv('test.csv')\n",
    "df_train = pd.read_csv('train.csv')"
   ]
  },
  {
   "cell_type": "code",
   "execution_count": 24,
   "metadata": {},
   "outputs": [],
   "source": [
    "columns = [column for column in test_df.columns if column != 'employeeno']\n",
    "test_x = test_df[columns].values.astype('float')\n",
    "\n",
    "test_empid = df_test['EmployeeNo']\n",
    "#what test x should be \n",
    "s_test_x = test_df.loc[: ,'trainings_attended':].values.astype('float')"
   ]
  },
  {
   "cell_type": "code",
   "execution_count": 25,
   "metadata": {},
   "outputs": [],
   "source": [
    "columns = [column for column in train_df.columns if column != ('promoted_or_not' ) and column !=( 'employeeno')]\n",
    "\n",
    "X = train_df[columns].values.astype('float')\n",
    "s_train = train_df[columns]\n",
    "\n",
    "y = train_df['promoted_or_not']\n",
    "empid = df_train['EmployeeNo']"
   ]
  },
  {
   "cell_type": "code",
   "execution_count": 26,
   "metadata": {},
   "outputs": [
    {
     "name": "stdout",
     "output_type": "stream",
     "text": [
      "(16496, 16)\n",
      "(38312, 16)\n",
      "(16496, 16)\n",
      "<class 'pandas.core.frame.DataFrame'>\n",
      "RangeIndex: 38312 entries, 0 to 38311\n",
      "Data columns (total 16 columns):\n",
      "trainings_attended          38312 non-null int64\n",
      "targets_met                 38312 non-null int64\n",
      "previous_award              38312 non-null int64\n",
      "training_score_average      38312 non-null int64\n",
      "no_of_previous_employers    38312 non-null int64\n",
      "age                         38312 non-null int64\n",
      "last_performance_score      38312 non-null float64\n",
      "working_for                 38312 non-null int64\n",
      "qualification               38312 non-null int64\n",
      "channel_of_recruitment      38312 non-null int64\n",
      "is_female                   38312 non-null int64\n",
      "schooled_abroad             38312 non-null int64\n",
      "is_married                  38312 non-null int64\n",
      "was_disciplined             38312 non-null int64\n",
      "was_moved                   38312 non-null int64\n",
      "division                    38312 non-null int64\n",
      "dtypes: float64(1), int64(15)\n",
      "memory usage: 4.7 MB\n"
     ]
    }
   ],
   "source": [
    "print(test_x.shape)\n",
    "print(X.shape)\n",
    "print(s_test_x.shape)\n",
    "s_train.info()"
   ]
  },
  {
   "cell_type": "code",
   "execution_count": 27,
   "metadata": {},
   "outputs": [
    {
     "name": "stdout",
     "output_type": "stream",
     "text": [
      "(30649, 16) (30649,)\n",
      "(7663, 16) (7663,)\n"
     ]
    }
   ],
   "source": [
    "#train test split\n",
    "from sklearn.model_selection import train_test_split\n",
    "\n",
    "X_train, X_test, y_train, y_test = train_test_split(X, y, test_size = 0.2, random_state = 0)\n",
    "print(X_train.shape, y_train.shape)\n",
    "print(X_test.shape, y_test.shape)"
   ]
  },
  {
   "cell_type": "markdown",
   "metadata": {},
   "source": [
    "--------------------- "
   ]
  },
  {
   "cell_type": "code",
   "execution_count": 28,
   "metadata": {},
   "outputs": [],
   "source": [
    "import lightgbm as lgb"
   ]
  },
  {
   "cell_type": "code",
   "execution_count": 29,
   "metadata": {},
   "outputs": [],
   "source": [
    "lgb_model = lgb.LGBMClassifier(n_estimators=1000, max_depth=3, learning_rate=0.01, random_state=1)"
   ]
  },
  {
   "cell_type": "code",
   "execution_count": 30,
   "metadata": {},
   "outputs": [],
   "source": [
    "from sklearn.metrics import roc_auc_score"
   ]
  },
  {
   "cell_type": "code",
   "execution_count": 31,
   "metadata": {},
   "outputs": [
    {
     "name": "stdout",
     "output_type": "stream",
     "text": [
      "0.8868568252330824\n"
     ]
    }
   ],
   "source": [
    "lgb_model.fit(X_train, y_train)\n",
    "pred_lgb = lgb_model.predict(X_test)\n",
    "print(roc_auc_score(pred_lgb, y_test))"
   ]
  },
  {
   "cell_type": "code",
   "execution_count": 32,
   "metadata": {},
   "outputs": [
    {
     "data": {
      "text/plain": [
       "LGBMClassifier(boosting_type='gbdt', class_weight=None, colsample_bytree=1.0,\n",
       "               importance_type='split', learning_rate=0.01, max_depth=3,\n",
       "               min_child_samples=20, min_child_weight=0.001, min_split_gain=0.0,\n",
       "               n_estimators=1000, n_jobs=-1, num_leaves=31, objective=None,\n",
       "               random_state=1, reg_alpha=0.0, reg_lambda=0.0, silent=True,\n",
       "               subsample=1.0, subsample_for_bin=200000, subsample_freq=0)"
      ]
     },
     "execution_count": 32,
     "metadata": {},
     "output_type": "execute_result"
    }
   ],
   "source": [
    "lgb_model.fit(X_train, y_train)"
   ]
  },
  {
   "cell_type": "code",
   "execution_count": 33,
   "metadata": {},
   "outputs": [],
   "source": [
    "with open('lgbm.pkl', 'wb') as file:\n",
    "    pickle.dump(lgb_model, file)"
   ]
  },
  {
   "cell_type": "code",
   "execution_count": 34,
   "metadata": {},
   "outputs": [
    {
     "data": {
      "text/plain": [
       "18116    0\n",
       "25421    0\n",
       "10129    0\n",
       "18814    0\n",
       "27359    0\n",
       "Name: promoted_or_not, dtype: int64"
      ]
     },
     "execution_count": 34,
     "metadata": {},
     "output_type": "execute_result"
    }
   ],
   "source": [
    "ypred2 = lgb_model.predict(test_x)\n",
    "ypred2[0:5]  # showing first 5 predictions\n",
    "y_test[0:5]"
   ]
  },
  {
   "cell_type": "code",
   "execution_count": 35,
   "metadata": {},
   "outputs": [],
   "source": [
    "for i in range(0,16496):\n",
    "    if ypred2[i]>=.5:       # setting threshold to .5\n",
    "        ypred2[i]=1.0\n",
    "    else:  \n",
    "        ypred2[i]=0.0\n",
    "\n",
    "from sklearn.metrics import accuracy_score"
   ]
  },
  {
   "cell_type": "code",
   "execution_count": 36,
   "metadata": {},
   "outputs": [
    {
     "data": {
      "text/plain": [
       "array([0, 0, 0, 0, 0], dtype=int64)"
      ]
     },
     "execution_count": 36,
     "metadata": {},
     "output_type": "execute_result"
    }
   ],
   "source": [
    "ypred2[0:5]  # showing first 5 predictions"
   ]
  },
  {
   "cell_type": "code",
   "execution_count": 37,
   "metadata": {},
   "outputs": [],
   "source": [
    "df_submission = pd.DataFrame({'employeeno':df_test['EmployeeNo'], 'promoted_or_not':ypred2.astype('int64')})\n",
    "df_submission.to_csv('set.csv', index = False)"
   ]
  },
  {
   "cell_type": "code",
   "execution_count": 38,
   "metadata": {},
   "outputs": [],
   "source": [
    "from sklearn.metrics import roc_auc_score"
   ]
  },
  {
   "cell_type": "code",
   "execution_count": null,
   "metadata": {},
   "outputs": [],
   "source": []
  },
  {
   "cell_type": "code",
   "execution_count": null,
   "metadata": {},
   "outputs": [],
   "source": []
  }
 ],
 "metadata": {
  "kernelspec": {
   "display_name": "Python 3",
   "language": "python",
   "name": "python3"
  },
  "language_info": {
   "codemirror_mode": {
    "name": "ipython",
    "version": 3
   },
   "file_extension": ".py",
   "mimetype": "text/x-python",
   "name": "python",
   "nbconvert_exporter": "python",
   "pygments_lexer": "ipython3",
   "version": "3.7.3"
  }
 },
 "nbformat": 4,
 "nbformat_minor": 2
}
