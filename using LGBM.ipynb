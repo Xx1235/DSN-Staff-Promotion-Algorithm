{
 "cells": [
  {
   "cell_type": "markdown",
   "metadata": {},
   "source": [
    "## DSN  : Predicitve Model Notebook [Using Light GBM]\n",
    "**Author**:🧕🏿 Hasanat Owoseni \\\n",
    "**Date** : 14th October, 2019"
   ]
  },
  {
   "cell_type": "code",
   "execution_count": 1,
   "metadata": {},
   "outputs": [],
   "source": [
    "import numpy as np\n",
    "import pandas as pd\n",
    "import pickle\n",
    "%matplotlib inline"
   ]
  },
  {
   "cell_type": "code",
   "execution_count": 2,
   "metadata": {},
   "outputs": [],
   "source": [
    "test_df = pd.read_csv('cleaned_test.csv')\n",
    "train_df = pd.read_csv('cleaned_train.csv')"
   ]
  },
  {
   "cell_type": "code",
   "execution_count": 3,
   "metadata": {},
   "outputs": [
    {
     "name": "stdout",
     "output_type": "stream",
     "text": [
      "<class 'pandas.core.frame.DataFrame'>\n",
      "RangeIndex: 38312 entries, 0 to 38311\n",
      "Data columns (total 67 columns):\n",
      "trainings_attended                                        38312 non-null int64\n",
      "targets_met                                               38312 non-null int64\n",
      "previous_award                                            38312 non-null int64\n",
      "training_score_average                                    38312 non-null int64\n",
      "no_of_previous_employers                                  38312 non-null int64\n",
      "promoted_or_not                                           38312 non-null int64\n",
      "age                                                       38312 non-null int64\n",
      "last_performance_score                                    38312 non-null float64\n",
      "working_for                                               38312 non-null int64\n",
      "qualification                                             38312 non-null int64\n",
      "is_female                                                 38312 non-null int64\n",
      "schooled_abroad                                           38312 non-null int64\n",
      "is_married                                                38312 non-null int64\n",
      "was_disciplined                                           38312 non-null int64\n",
      "was_moved                                                 38312 non-null int64\n",
      "division_Business Finance Operations                      38312 non-null int64\n",
      "division_Commercial Sales and Marketing                   38312 non-null int64\n",
      "division_Customer Support and Field Operations            38312 non-null int64\n",
      "division_Information Technology and Solution Support      38312 non-null int64\n",
      "division_Information and Strategy                         38312 non-null int64\n",
      "division_People/HR Management                             38312 non-null int64\n",
      "division_Regulatory and Legal services                    38312 non-null int64\n",
      "division_Research and Innovation                          38312 non-null int64\n",
      "division_Sourcing and Purchasing                          38312 non-null int64\n",
      "channel_of_recruitment_Agency and others                  38312 non-null int64\n",
      "channel_of_recruitment_Direct Internal process            38312 non-null int64\n",
      "channel_of_recruitment_Referral and Special candidates    38312 non-null int64\n",
      "qualification_First Degree or HND                         38312 non-null int64\n",
      "qualification_MSc, MBA and PhD                            38312 non-null int64\n",
      "qualification_Non-University Education                    38312 non-null int64\n",
      "state_of_origin_ABIA                                      38312 non-null int64\n",
      "state_of_origin_ADAMAWA                                   38312 non-null int64\n",
      "state_of_origin_AKWA IBOM                                 38312 non-null int64\n",
      "state_of_origin_ANAMBRA                                   38312 non-null int64\n",
      "state_of_origin_BAUCHI                                    38312 non-null int64\n",
      "state_of_origin_BAYELSA                                   38312 non-null int64\n",
      "state_of_origin_BENUE                                     38312 non-null int64\n",
      "state_of_origin_BORNO                                     38312 non-null int64\n",
      "state_of_origin_CROSS RIVER                               38312 non-null int64\n",
      "state_of_origin_DELTA                                     38312 non-null int64\n",
      "state_of_origin_EBONYI                                    38312 non-null int64\n",
      "state_of_origin_EDO                                       38312 non-null int64\n",
      "state_of_origin_EKITI                                     38312 non-null int64\n",
      "state_of_origin_ENUGU                                     38312 non-null int64\n",
      "state_of_origin_FCT                                       38312 non-null int64\n",
      "state_of_origin_GOMBE                                     38312 non-null int64\n",
      "state_of_origin_IMO                                       38312 non-null int64\n",
      "state_of_origin_JIGAWA                                    38312 non-null int64\n",
      "state_of_origin_KADUNA                                    38312 non-null int64\n",
      "state_of_origin_KANO                                      38312 non-null int64\n",
      "state_of_origin_KATSINA                                   38312 non-null int64\n",
      "state_of_origin_KEBBI                                     38312 non-null int64\n",
      "state_of_origin_KOGI                                      38312 non-null int64\n",
      "state_of_origin_KWARA                                     38312 non-null int64\n",
      "state_of_origin_LAGOS                                     38312 non-null int64\n",
      "state_of_origin_NASSARAWA                                 38312 non-null int64\n",
      "state_of_origin_NIGER                                     38312 non-null int64\n",
      "state_of_origin_OGUN                                      38312 non-null int64\n",
      "state_of_origin_ONDO                                      38312 non-null int64\n",
      "state_of_origin_OSUN                                      38312 non-null int64\n",
      "state_of_origin_OYO                                       38312 non-null int64\n",
      "state_of_origin_PLATEAU                                   38312 non-null int64\n",
      "state_of_origin_RIVERS                                    38312 non-null int64\n",
      "state_of_origin_SOKOTO                                    38312 non-null int64\n",
      "state_of_origin_TARABA                                    38312 non-null int64\n",
      "state_of_origin_YOBE                                      38312 non-null int64\n",
      "state_of_origin_ZAMFARA                                   38312 non-null int64\n",
      "dtypes: float64(1), int64(66)\n",
      "memory usage: 19.6 MB\n",
      "<class 'pandas.core.frame.DataFrame'>\n",
      "RangeIndex: 16496 entries, 0 to 16495\n",
      "Data columns (total 66 columns):\n",
      "trainings_attended                                        16496 non-null int64\n",
      "targets_met                                               16496 non-null int64\n",
      "previous_award                                            16496 non-null int64\n",
      "training_score_average                                    16496 non-null int64\n",
      "no_of_previous_employers                                  16496 non-null int64\n",
      "age                                                       16496 non-null int64\n",
      "last_performance_score                                    16496 non-null float64\n",
      "working_for                                               16496 non-null int64\n",
      "qualification                                             16496 non-null int64\n",
      "is_female                                                 16496 non-null int64\n",
      "schooled_abroad                                           16496 non-null int64\n",
      "is_married                                                16496 non-null int64\n",
      "was_disciplined                                           16496 non-null int64\n",
      "was_moved                                                 16496 non-null int64\n",
      "division_Business Finance Operations                      16496 non-null int64\n",
      "division_Commercial Sales and Marketing                   16496 non-null int64\n",
      "division_Customer Support and Field Operations            16496 non-null int64\n",
      "division_Information Technology and Solution Support      16496 non-null int64\n",
      "division_Information and Strategy                         16496 non-null int64\n",
      "division_People/HR Management                             16496 non-null int64\n",
      "division_Regulatory and Legal services                    16496 non-null int64\n",
      "division_Research and Innovation                          16496 non-null int64\n",
      "division_Sourcing and Purchasing                          16496 non-null int64\n",
      "channel_of_recruitment_Agency and others                  16496 non-null int64\n",
      "channel_of_recruitment_Direct Internal process            16496 non-null int64\n",
      "channel_of_recruitment_Referral and Special candidates    16496 non-null int64\n",
      "qualification_First Degree or HND                         16496 non-null int64\n",
      "qualification_MSc, MBA and PhD                            16496 non-null int64\n",
      "qualification_Non-University Education                    16496 non-null int64\n",
      "state_of_origin_ABIA                                      16496 non-null int64\n",
      "state_of_origin_ADAMAWA                                   16496 non-null int64\n",
      "state_of_origin_AKWA IBOM                                 16496 non-null int64\n",
      "state_of_origin_ANAMBRA                                   16496 non-null int64\n",
      "state_of_origin_BAUCHI                                    16496 non-null int64\n",
      "state_of_origin_BAYELSA                                   16496 non-null int64\n",
      "state_of_origin_BENUE                                     16496 non-null int64\n",
      "state_of_origin_BORNO                                     16496 non-null int64\n",
      "state_of_origin_CROSS RIVER                               16496 non-null int64\n",
      "state_of_origin_DELTA                                     16496 non-null int64\n",
      "state_of_origin_EBONYI                                    16496 non-null int64\n",
      "state_of_origin_EDO                                       16496 non-null int64\n",
      "state_of_origin_EKITI                                     16496 non-null int64\n",
      "state_of_origin_ENUGU                                     16496 non-null int64\n",
      "state_of_origin_FCT                                       16496 non-null int64\n",
      "state_of_origin_GOMBE                                     16496 non-null int64\n",
      "state_of_origin_IMO                                       16496 non-null int64\n",
      "state_of_origin_JIGAWA                                    16496 non-null int64\n",
      "state_of_origin_KADUNA                                    16496 non-null int64\n",
      "state_of_origin_KANO                                      16496 non-null int64\n",
      "state_of_origin_KATSINA                                   16496 non-null int64\n",
      "state_of_origin_KEBBI                                     16496 non-null int64\n",
      "state_of_origin_KOGI                                      16496 non-null int64\n",
      "state_of_origin_KWARA                                     16496 non-null int64\n",
      "state_of_origin_LAGOS                                     16496 non-null int64\n",
      "state_of_origin_NASSARAWA                                 16496 non-null int64\n",
      "state_of_origin_NIGER                                     16496 non-null int64\n",
      "state_of_origin_OGUN                                      16496 non-null int64\n",
      "state_of_origin_ONDO                                      16496 non-null int64\n",
      "state_of_origin_OSUN                                      16496 non-null int64\n",
      "state_of_origin_OYO                                       16496 non-null int64\n",
      "state_of_origin_PLATEAU                                   16496 non-null int64\n",
      "state_of_origin_RIVERS                                    16496 non-null int64\n",
      "state_of_origin_SOKOTO                                    16496 non-null int64\n",
      "state_of_origin_TARABA                                    16496 non-null int64\n",
      "state_of_origin_YOBE                                      16496 non-null int64\n",
      "state_of_origin_ZAMFARA                                   16496 non-null int64\n",
      "dtypes: float64(1), int64(65)\n",
      "memory usage: 8.3 MB\n"
     ]
    }
   ],
   "source": [
    "test_df.drop(['Unnamed: 0'], axis = 1, inplace = True)\n",
    "train_df.drop(['Unnamed: 0'], axis = 1, inplace = True)\n",
    "train_df.info()\n",
    "test_df.info()"
   ]
  },
  {
   "cell_type": "code",
   "execution_count": 9,
   "metadata": {},
   "outputs": [],
   "source": [
    "df_test = pd.read_csv('test.csv')\n",
    "df_train = pd.read_csv('train.csv')"
   ]
  },
  {
   "cell_type": "code",
   "execution_count": 10,
   "metadata": {},
   "outputs": [],
   "source": [
    "columns = [column for column in test_df.columns if column != 'employeeno']\n",
    "test_x = test_df[columns].values.astype('float')\n",
    "\n",
    "test_empid = df_test['EmployeeNo']\n",
    "#what test x should be \n",
    "s_test_x = test_df.loc[: ,'trainings_attended':].values.astype('float')"
   ]
  },
  {
   "cell_type": "code",
   "execution_count": 11,
   "metadata": {},
   "outputs": [],
   "source": [
    "columns = [column for column in train_df.columns if column != ('promoted_or_not' ) and column !=( 'employeeno')]\n",
    "\n",
    "X = train_df[columns].values.astype('float')\n",
    "s_train = train_df[columns]\n",
    "\n",
    "y = train_df['promoted_or_not']\n",
    "empid = df_train['EmployeeNo']"
   ]
  },
  {
   "cell_type": "code",
   "execution_count": 12,
   "metadata": {},
   "outputs": [
    {
     "name": "stdout",
     "output_type": "stream",
     "text": [
      "(16496, 66)\n",
      "(38312, 66)\n",
      "(16496, 66)\n",
      "<class 'pandas.core.frame.DataFrame'>\n",
      "RangeIndex: 38312 entries, 0 to 38311\n",
      "Data columns (total 66 columns):\n",
      "trainings_attended                                        38312 non-null int64\n",
      "targets_met                                               38312 non-null int64\n",
      "previous_award                                            38312 non-null int64\n",
      "training_score_average                                    38312 non-null int64\n",
      "no_of_previous_employers                                  38312 non-null int64\n",
      "age                                                       38312 non-null int64\n",
      "last_performance_score                                    38312 non-null float64\n",
      "working_for                                               38312 non-null int64\n",
      "qualification                                             38312 non-null int64\n",
      "is_female                                                 38312 non-null int64\n",
      "schooled_abroad                                           38312 non-null int64\n",
      "is_married                                                38312 non-null int64\n",
      "was_disciplined                                           38312 non-null int64\n",
      "was_moved                                                 38312 non-null int64\n",
      "division_Business Finance Operations                      38312 non-null int64\n",
      "division_Commercial Sales and Marketing                   38312 non-null int64\n",
      "division_Customer Support and Field Operations            38312 non-null int64\n",
      "division_Information Technology and Solution Support      38312 non-null int64\n",
      "division_Information and Strategy                         38312 non-null int64\n",
      "division_People/HR Management                             38312 non-null int64\n",
      "division_Regulatory and Legal services                    38312 non-null int64\n",
      "division_Research and Innovation                          38312 non-null int64\n",
      "division_Sourcing and Purchasing                          38312 non-null int64\n",
      "channel_of_recruitment_Agency and others                  38312 non-null int64\n",
      "channel_of_recruitment_Direct Internal process            38312 non-null int64\n",
      "channel_of_recruitment_Referral and Special candidates    38312 non-null int64\n",
      "qualification_First Degree or HND                         38312 non-null int64\n",
      "qualification_MSc, MBA and PhD                            38312 non-null int64\n",
      "qualification_Non-University Education                    38312 non-null int64\n",
      "state_of_origin_ABIA                                      38312 non-null int64\n",
      "state_of_origin_ADAMAWA                                   38312 non-null int64\n",
      "state_of_origin_AKWA IBOM                                 38312 non-null int64\n",
      "state_of_origin_ANAMBRA                                   38312 non-null int64\n",
      "state_of_origin_BAUCHI                                    38312 non-null int64\n",
      "state_of_origin_BAYELSA                                   38312 non-null int64\n",
      "state_of_origin_BENUE                                     38312 non-null int64\n",
      "state_of_origin_BORNO                                     38312 non-null int64\n",
      "state_of_origin_CROSS RIVER                               38312 non-null int64\n",
      "state_of_origin_DELTA                                     38312 non-null int64\n",
      "state_of_origin_EBONYI                                    38312 non-null int64\n",
      "state_of_origin_EDO                                       38312 non-null int64\n",
      "state_of_origin_EKITI                                     38312 non-null int64\n",
      "state_of_origin_ENUGU                                     38312 non-null int64\n",
      "state_of_origin_FCT                                       38312 non-null int64\n",
      "state_of_origin_GOMBE                                     38312 non-null int64\n",
      "state_of_origin_IMO                                       38312 non-null int64\n",
      "state_of_origin_JIGAWA                                    38312 non-null int64\n",
      "state_of_origin_KADUNA                                    38312 non-null int64\n",
      "state_of_origin_KANO                                      38312 non-null int64\n",
      "state_of_origin_KATSINA                                   38312 non-null int64\n",
      "state_of_origin_KEBBI                                     38312 non-null int64\n",
      "state_of_origin_KOGI                                      38312 non-null int64\n",
      "state_of_origin_KWARA                                     38312 non-null int64\n",
      "state_of_origin_LAGOS                                     38312 non-null int64\n",
      "state_of_origin_NASSARAWA                                 38312 non-null int64\n",
      "state_of_origin_NIGER                                     38312 non-null int64\n",
      "state_of_origin_OGUN                                      38312 non-null int64\n",
      "state_of_origin_ONDO                                      38312 non-null int64\n",
      "state_of_origin_OSUN                                      38312 non-null int64\n",
      "state_of_origin_OYO                                       38312 non-null int64\n",
      "state_of_origin_PLATEAU                                   38312 non-null int64\n",
      "state_of_origin_RIVERS                                    38312 non-null int64\n",
      "state_of_origin_SOKOTO                                    38312 non-null int64\n",
      "state_of_origin_TARABA                                    38312 non-null int64\n",
      "state_of_origin_YOBE                                      38312 non-null int64\n",
      "state_of_origin_ZAMFARA                                   38312 non-null int64\n",
      "dtypes: float64(1), int64(65)\n",
      "memory usage: 19.3 MB\n"
     ]
    }
   ],
   "source": [
    "print(test_x.shape)\n",
    "print(X.shape)\n",
    "print(s_test_x.shape)\n",
    "s_train.info()"
   ]
  },
  {
   "cell_type": "code",
   "execution_count": 13,
   "metadata": {},
   "outputs": [
    {
     "name": "stdout",
     "output_type": "stream",
     "text": [
      "(30649, 66) (30649,)\n",
      "(7663, 66) (7663,)\n"
     ]
    }
   ],
   "source": [
    "#train test split\n",
    "from sklearn.model_selection import train_test_split\n",
    "\n",
    "X_train, X_test, y_train, y_test = train_test_split(X, y, test_size = 0.2, random_state = 0)\n",
    "print(X_train.shape, y_train.shape)\n",
    "print(X_test.shape, y_test.shape)"
   ]
  },
  {
   "cell_type": "markdown",
   "metadata": {},
   "source": [
    "--------------------- "
   ]
  },
  {
   "cell_type": "code",
   "execution_count": 14,
   "metadata": {},
   "outputs": [],
   "source": [
    "import lightgbm as lgb"
   ]
  },
  {
   "cell_type": "code",
   "execution_count": 15,
   "metadata": {},
   "outputs": [],
   "source": [
    "lgb_model = lgb.LGBMClassifier(n_estimators=1000, max_depth=3, learning_rate=0.01, random_state=1)"
   ]
  },
  {
   "cell_type": "code",
   "execution_count": 16,
   "metadata": {},
   "outputs": [],
   "source": [
    "from sklearn.metrics import roc_auc_score"
   ]
  },
  {
   "cell_type": "code",
   "execution_count": 17,
   "metadata": {},
   "outputs": [
    {
     "name": "stdout",
     "output_type": "stream",
     "text": [
      "0.9606103286384976\n"
     ]
    }
   ],
   "source": [
    "lgb_model.fit(X_train, y_train)\n",
    "pred_lgb = lgb_model.predict(X_test)\n",
    "print(roc_auc_score(pred_lgb, y_test))"
   ]
  },
  {
   "cell_type": "code",
   "execution_count": 18,
   "metadata": {},
   "outputs": [
    {
     "data": {
      "text/plain": [
       "LGBMClassifier(boosting_type='gbdt', class_weight=None, colsample_bytree=1.0,\n",
       "               importance_type='split', learning_rate=0.01, max_depth=3,\n",
       "               min_child_samples=20, min_child_weight=0.001, min_split_gain=0.0,\n",
       "               n_estimators=1000, n_jobs=-1, num_leaves=31, objective=None,\n",
       "               random_state=1, reg_alpha=0.0, reg_lambda=0.0, silent=True,\n",
       "               subsample=1.0, subsample_for_bin=200000, subsample_freq=0)"
      ]
     },
     "execution_count": 18,
     "metadata": {},
     "output_type": "execute_result"
    }
   ],
   "source": [
    "lgb_model.fit(X_train, y_train)"
   ]
  },
  {
   "cell_type": "code",
   "execution_count": 19,
   "metadata": {},
   "outputs": [],
   "source": [
    "with open('lgbmodel.pkl', 'wb') as file:\n",
    "    pickle.dump(lgb_model, file)"
   ]
  },
  {
   "cell_type": "code",
   "execution_count": 20,
   "metadata": {},
   "outputs": [
    {
     "data": {
      "text/plain": [
       "18116    0\n",
       "25421    0\n",
       "10129    0\n",
       "18814    0\n",
       "27359    0\n",
       "Name: promoted_or_not, dtype: int64"
      ]
     },
     "execution_count": 20,
     "metadata": {},
     "output_type": "execute_result"
    }
   ],
   "source": [
    "ypred2 = lgb_model.predict(test_x)\n",
    "ypred2[0:5]  # showing first 5 predictions\n",
    "y_test[0:5]"
   ]
  },
  {
   "cell_type": "code",
   "execution_count": 21,
   "metadata": {},
   "outputs": [],
   "source": [
    "for i in range(0,16496):\n",
    "    if ypred2[i]>=.5:       # setting threshold to .5\n",
    "        ypred2[i]=1.0\n",
    "    else:  \n",
    "        ypred2[i]=0.0\n",
    "\n",
    "from sklearn.metrics import accuracy_score"
   ]
  },
  {
   "cell_type": "code",
   "execution_count": 22,
   "metadata": {},
   "outputs": [
    {
     "data": {
      "text/plain": [
       "array([0, 0, 0, 0, 0], dtype=int64)"
      ]
     },
     "execution_count": 22,
     "metadata": {},
     "output_type": "execute_result"
    }
   ],
   "source": [
    "ypred2[0:5]  # showing first 5 predictions"
   ]
  },
  {
   "cell_type": "code",
   "execution_count": 25,
   "metadata": {},
   "outputs": [],
   "source": [
    "df_submission = pd.DataFrame({'employeeno':df_test['EmployeeNo'], 'promoted_or_not':ypred2.astype('int64')})\n",
    "df_submission.to_csv('set.csv', index = False)"
   ]
  },
  {
   "cell_type": "code",
   "execution_count": 26,
   "metadata": {},
   "outputs": [],
   "source": [
    "from sklearn.metrics import roc_auc_score"
   ]
  },
  {
   "cell_type": "code",
   "execution_count": null,
   "metadata": {},
   "outputs": [],
   "source": []
  }
 ],
 "metadata": {
  "kernelspec": {
   "display_name": "Python 3",
   "language": "python",
   "name": "python3"
  },
  "language_info": {
   "codemirror_mode": {
    "name": "ipython",
    "version": 3
   },
   "file_extension": ".py",
   "mimetype": "text/x-python",
   "name": "python",
   "nbconvert_exporter": "python",
   "pygments_lexer": "ipython3",
   "version": "3.7.3"
  }
 },
 "nbformat": 4,
 "nbformat_minor": 2
}
