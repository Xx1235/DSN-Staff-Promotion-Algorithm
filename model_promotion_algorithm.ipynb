{
 "cells": [
  {
   "cell_type": "markdown",
   "metadata": {},
   "source": [
    "## Titanic Survival : Predicitve Model Notebook\n",
    "**Author**:🧕🏿 Hasanat Owoseni \\\n",
    "**Date** : 13th October, 2019"
   ]
  },
  {
   "cell_type": "markdown",
   "metadata": {},
   "source": [
    "### Building Predictive Model - Baseline Model\n"
   ]
  },
  {
   "cell_type": "code",
   "execution_count": 20,
   "metadata": {},
   "outputs": [],
   "source": [
    "import os\n",
    "import numpy as np\n",
    "import pandas as pd\n",
    "%matplotlib inline"
   ]
  },
  {
   "cell_type": "code",
   "execution_count": 21,
   "metadata": {},
   "outputs": [],
   "source": [
    "test_df = pd.read_csv('cleaned_test.csv')\n",
    "train_df = pd.read_csv('cleaned_train.csv')"
   ]
  },
  {
   "cell_type": "code",
   "execution_count": 22,
   "metadata": {},
   "outputs": [],
   "source": [
    "test_df.drop(['Unnamed: 0'], axis = 1, inplace = True)\n",
    "train_df.drop(['Unnamed: 0'], axis = 1, inplace = True)"
   ]
  },
  {
   "cell_type": "code",
   "execution_count": 25,
   "metadata": {},
   "outputs": [
    {
     "name": "stdout",
     "output_type": "stream",
     "text": [
      "<class 'pandas.core.frame.DataFrame'>\n",
      "RangeIndex: 38312 entries, 0 to 38311\n",
      "Data columns (total 21 columns):\n",
      "employeeno                                                38312 non-null object\n",
      "trainings_attended                                        38312 non-null int64\n",
      "last_performance_score                                    38312 non-null float64\n",
      "targets_met                                               38312 non-null int64\n",
      "previous_award                                            38312 non-null int64\n",
      "training_score_average                                    38312 non-null int64\n",
      "no_of_previous_employers                                  38312 non-null int64\n",
      "promoted_or_not                                           38312 non-null int64\n",
      "age                                                       38312 non-null int64\n",
      "working_for                                               38312 non-null int64\n",
      "is_female                                                 38312 non-null int64\n",
      "schooled_abroad                                           38312 non-null int64\n",
      "is_married                                                38312 non-null int64\n",
      "was_disciplined                                           38312 non-null int64\n",
      "was_moved                                                 38312 non-null int64\n",
      "channel_of_recruitment_Agency and others                  38312 non-null int64\n",
      "channel_of_recruitment_Direct Internal process            38312 non-null int64\n",
      "channel_of_recruitment_Referral and Special candidates    38312 non-null int64\n",
      "qualification_First Degree or HND                         38312 non-null int64\n",
      "qualification_MSc, MBA and PhD                            38312 non-null int64\n",
      "qualification_Non-University Education                    38312 non-null int64\n",
      "dtypes: float64(1), int64(19), object(1)\n",
      "memory usage: 6.1+ MB\n"
     ]
    }
   ],
   "source": [
    "train_df.info()"
   ]
  },
  {
   "cell_type": "code",
   "execution_count": 26,
   "metadata": {
    "scrolled": true
   },
   "outputs": [
    {
     "data": {
      "text/html": [
       "<div>\n",
       "<style scoped>\n",
       "    .dataframe tbody tr th:only-of-type {\n",
       "        vertical-align: middle;\n",
       "    }\n",
       "\n",
       "    .dataframe tbody tr th {\n",
       "        vertical-align: top;\n",
       "    }\n",
       "\n",
       "    .dataframe thead th {\n",
       "        text-align: right;\n",
       "    }\n",
       "</style>\n",
       "<table border=\"1\" class=\"dataframe\">\n",
       "  <thead>\n",
       "    <tr style=\"text-align: right;\">\n",
       "      <th></th>\n",
       "      <th>employeeno</th>\n",
       "      <th>trainings_attended</th>\n",
       "      <th>last_performance_score</th>\n",
       "      <th>targets_met</th>\n",
       "      <th>previous_award</th>\n",
       "      <th>training_score_average</th>\n",
       "      <th>no_of_previous_employers</th>\n",
       "      <th>promoted_or_not</th>\n",
       "      <th>age</th>\n",
       "      <th>working_for</th>\n",
       "      <th>...</th>\n",
       "      <th>schooled_abroad</th>\n",
       "      <th>is_married</th>\n",
       "      <th>was_disciplined</th>\n",
       "      <th>was_moved</th>\n",
       "      <th>channel_of_recruitment_Agency and others</th>\n",
       "      <th>channel_of_recruitment_Direct Internal process</th>\n",
       "      <th>channel_of_recruitment_Referral and Special candidates</th>\n",
       "      <th>qualification_First Degree or HND</th>\n",
       "      <th>qualification_MSc, MBA and PhD</th>\n",
       "      <th>qualification_Non-University Education</th>\n",
       "    </tr>\n",
       "  </thead>\n",
       "  <tbody>\n",
       "    <tr>\n",
       "      <th>0</th>\n",
       "      <td>YAK/S/00001</td>\n",
       "      <td>2</td>\n",
       "      <td>12.5</td>\n",
       "      <td>1</td>\n",
       "      <td>0</td>\n",
       "      <td>41</td>\n",
       "      <td>0</td>\n",
       "      <td>0</td>\n",
       "      <td>33</td>\n",
       "      <td>8</td>\n",
       "      <td>...</td>\n",
       "      <td>0</td>\n",
       "      <td>1</td>\n",
       "      <td>0</td>\n",
       "      <td>0</td>\n",
       "      <td>0</td>\n",
       "      <td>1</td>\n",
       "      <td>0</td>\n",
       "      <td>0</td>\n",
       "      <td>1</td>\n",
       "      <td>0</td>\n",
       "    </tr>\n",
       "    <tr>\n",
       "      <th>1</th>\n",
       "      <td>YAK/S/00002</td>\n",
       "      <td>2</td>\n",
       "      <td>12.5</td>\n",
       "      <td>0</td>\n",
       "      <td>0</td>\n",
       "      <td>52</td>\n",
       "      <td>0</td>\n",
       "      <td>0</td>\n",
       "      <td>28</td>\n",
       "      <td>4</td>\n",
       "      <td>...</td>\n",
       "      <td>1</td>\n",
       "      <td>1</td>\n",
       "      <td>0</td>\n",
       "      <td>0</td>\n",
       "      <td>1</td>\n",
       "      <td>0</td>\n",
       "      <td>0</td>\n",
       "      <td>0</td>\n",
       "      <td>0</td>\n",
       "      <td>1</td>\n",
       "    </tr>\n",
       "    <tr>\n",
       "      <th>2</th>\n",
       "      <td>YAK/S/00003</td>\n",
       "      <td>2</td>\n",
       "      <td>7.5</td>\n",
       "      <td>0</td>\n",
       "      <td>0</td>\n",
       "      <td>42</td>\n",
       "      <td>0</td>\n",
       "      <td>0</td>\n",
       "      <td>32</td>\n",
       "      <td>7</td>\n",
       "      <td>...</td>\n",
       "      <td>1</td>\n",
       "      <td>1</td>\n",
       "      <td>0</td>\n",
       "      <td>0</td>\n",
       "      <td>0</td>\n",
       "      <td>1</td>\n",
       "      <td>0</td>\n",
       "      <td>1</td>\n",
       "      <td>0</td>\n",
       "      <td>0</td>\n",
       "    </tr>\n",
       "    <tr>\n",
       "      <th>3</th>\n",
       "      <td>YAK/S/00004</td>\n",
       "      <td>3</td>\n",
       "      <td>2.5</td>\n",
       "      <td>0</td>\n",
       "      <td>0</td>\n",
       "      <td>42</td>\n",
       "      <td>1</td>\n",
       "      <td>0</td>\n",
       "      <td>37</td>\n",
       "      <td>10</td>\n",
       "      <td>...</td>\n",
       "      <td>1</td>\n",
       "      <td>0</td>\n",
       "      <td>0</td>\n",
       "      <td>0</td>\n",
       "      <td>1</td>\n",
       "      <td>0</td>\n",
       "      <td>0</td>\n",
       "      <td>1</td>\n",
       "      <td>0</td>\n",
       "      <td>0</td>\n",
       "    </tr>\n",
       "    <tr>\n",
       "      <th>4</th>\n",
       "      <td>YAK/S/00006</td>\n",
       "      <td>3</td>\n",
       "      <td>7.5</td>\n",
       "      <td>0</td>\n",
       "      <td>0</td>\n",
       "      <td>77</td>\n",
       "      <td>1</td>\n",
       "      <td>0</td>\n",
       "      <td>29</td>\n",
       "      <td>7</td>\n",
       "      <td>...</td>\n",
       "      <td>1</td>\n",
       "      <td>1</td>\n",
       "      <td>0</td>\n",
       "      <td>0</td>\n",
       "      <td>0</td>\n",
       "      <td>1</td>\n",
       "      <td>0</td>\n",
       "      <td>1</td>\n",
       "      <td>0</td>\n",
       "      <td>0</td>\n",
       "    </tr>\n",
       "  </tbody>\n",
       "</table>\n",
       "<p>5 rows × 21 columns</p>\n",
       "</div>"
      ],
      "text/plain": [
       "    employeeno  trainings_attended  last_performance_score  targets_met  \\\n",
       "0  YAK/S/00001                   2                    12.5            1   \n",
       "1  YAK/S/00002                   2                    12.5            0   \n",
       "2  YAK/S/00003                   2                     7.5            0   \n",
       "3  YAK/S/00004                   3                     2.5            0   \n",
       "4  YAK/S/00006                   3                     7.5            0   \n",
       "\n",
       "   previous_award  training_score_average  no_of_previous_employers  \\\n",
       "0               0                      41                         0   \n",
       "1               0                      52                         0   \n",
       "2               0                      42                         0   \n",
       "3               0                      42                         1   \n",
       "4               0                      77                         1   \n",
       "\n",
       "   promoted_or_not  age  working_for  ...  schooled_abroad  is_married  \\\n",
       "0                0   33            8  ...                0           1   \n",
       "1                0   28            4  ...                1           1   \n",
       "2                0   32            7  ...                1           1   \n",
       "3                0   37           10  ...                1           0   \n",
       "4                0   29            7  ...                1           1   \n",
       "\n",
       "   was_disciplined  was_moved  channel_of_recruitment_Agency and others  \\\n",
       "0                0          0                                         0   \n",
       "1                0          0                                         1   \n",
       "2                0          0                                         0   \n",
       "3                0          0                                         1   \n",
       "4                0          0                                         0   \n",
       "\n",
       "   channel_of_recruitment_Direct Internal process  \\\n",
       "0                                               1   \n",
       "1                                               0   \n",
       "2                                               1   \n",
       "3                                               0   \n",
       "4                                               1   \n",
       "\n",
       "   channel_of_recruitment_Referral and Special candidates  \\\n",
       "0                                                  0        \n",
       "1                                                  0        \n",
       "2                                                  0        \n",
       "3                                                  0        \n",
       "4                                                  0        \n",
       "\n",
       "   qualification_First Degree or HND  qualification_MSc, MBA and PhD  \\\n",
       "0                                  0                               1   \n",
       "1                                  0                               0   \n",
       "2                                  1                               0   \n",
       "3                                  1                               0   \n",
       "4                                  1                               0   \n",
       "\n",
       "   qualification_Non-University Education  \n",
       "0                                       0  \n",
       "1                                       1  \n",
       "2                                       0  \n",
       "3                                       0  \n",
       "4                                       0  \n",
       "\n",
       "[5 rows x 21 columns]"
      ]
     },
     "execution_count": 26,
     "metadata": {},
     "output_type": "execute_result"
    }
   ],
   "source": [
    "train_df.head()"
   ]
  },
  {
   "cell_type": "code",
   "execution_count": 44,
   "metadata": {},
   "outputs": [
    {
     "data": {
      "text/plain": [
       "['trainings_attended',\n",
       " 'last_performance_score',\n",
       " 'targets_met',\n",
       " 'previous_award',\n",
       " 'training_score_average',\n",
       " 'no_of_previous_employers',\n",
       " 'age',\n",
       " 'working_for',\n",
       " 'is_female',\n",
       " 'schooled_abroad',\n",
       " 'is_married',\n",
       " 'was_disciplined',\n",
       " 'was_moved',\n",
       " 'channel_of_recruitment_Agency and others',\n",
       " 'channel_of_recruitment_Direct Internal process',\n",
       " 'channel_of_recruitment_Referral and Special candidates',\n",
       " 'qualification_First Degree or HND',\n",
       " 'qualification_MSc, MBA and PhD',\n",
       " 'qualification_Non-University Education']"
      ]
     },
     "execution_count": 44,
     "metadata": {},
     "output_type": "execute_result"
    }
   ],
   "source": [
    "[column for column in train_df.columns if column != ('promoted_or_not' ) and column !=( 'employeeno')]"
   ]
  },
  {
   "cell_type": "code",
   "execution_count": 48,
   "metadata": {},
   "outputs": [],
   "source": [
    "columns = [column for column in train_df.columns if column != ('promoted_or_not' ) and column !=( 'employeeno')]\n",
    "\n",
    "X = train_df[columns].values.astype('float')\n",
    "s_train = train_df[columns]\n",
    "y = train_df['promoted_or_not'].ravel()\n",
    "empid = train_df['employeeno']"
   ]
  },
  {
   "cell_type": "code",
   "execution_count": 49,
   "metadata": {},
   "outputs": [],
   "source": [
    "columns = [column for column in test_df.columns if column != 'employeeno']\n",
    "test_x = test_df[columns].values.astype('float')\n",
    "\n",
    "test_empid = test_df['employeeno']\n",
    "#what test x should be \n",
    "s_test_x = test_df.loc[: ,'trainings_attended':].values.astype('float')"
   ]
  },
  {
   "cell_type": "code",
   "execution_count": 50,
   "metadata": {},
   "outputs": [
    {
     "name": "stdout",
     "output_type": "stream",
     "text": [
      "(16496, 19)\n",
      "(38312, 19)\n",
      "<class 'pandas.core.frame.DataFrame'>\n",
      "RangeIndex: 38312 entries, 0 to 38311\n",
      "Data columns (total 19 columns):\n",
      "trainings_attended                                        38312 non-null int64\n",
      "last_performance_score                                    38312 non-null float64\n",
      "targets_met                                               38312 non-null int64\n",
      "previous_award                                            38312 non-null int64\n",
      "training_score_average                                    38312 non-null int64\n",
      "no_of_previous_employers                                  38312 non-null int64\n",
      "age                                                       38312 non-null int64\n",
      "working_for                                               38312 non-null int64\n",
      "is_female                                                 38312 non-null int64\n",
      "schooled_abroad                                           38312 non-null int64\n",
      "is_married                                                38312 non-null int64\n",
      "was_disciplined                                           38312 non-null int64\n",
      "was_moved                                                 38312 non-null int64\n",
      "channel_of_recruitment_Agency and others                  38312 non-null int64\n",
      "channel_of_recruitment_Direct Internal process            38312 non-null int64\n",
      "channel_of_recruitment_Referral and Special candidates    38312 non-null int64\n",
      "qualification_First Degree or HND                         38312 non-null int64\n",
      "qualification_MSc, MBA and PhD                            38312 non-null int64\n",
      "qualification_Non-University Education                    38312 non-null int64\n",
      "dtypes: float64(1), int64(18)\n",
      "memory usage: 5.6 MB\n"
     ]
    }
   ],
   "source": [
    "print(test_x.shape)\n",
    "print(X.shape)\n",
    "s_train.info()"
   ]
  },
  {
   "cell_type": "code",
   "execution_count": 51,
   "metadata": {},
   "outputs": [
    {
     "data": {
      "text/plain": [
       "(38312, 19)"
      ]
     },
     "execution_count": 51,
     "metadata": {},
     "output_type": "execute_result"
    }
   ],
   "source": [
    "X.shape"
   ]
  },
  {
   "cell_type": "code",
   "execution_count": 52,
   "metadata": {},
   "outputs": [
    {
     "name": "stdout",
     "output_type": "stream",
     "text": [
      "<class 'pandas.core.frame.DataFrame'>\n",
      "RangeIndex: 38312 entries, 0 to 38311\n",
      "Data columns (total 21 columns):\n",
      "employeeno                                                38312 non-null object\n",
      "trainings_attended                                        38312 non-null int64\n",
      "last_performance_score                                    38312 non-null float64\n",
      "targets_met                                               38312 non-null int64\n",
      "previous_award                                            38312 non-null int64\n",
      "training_score_average                                    38312 non-null int64\n",
      "no_of_previous_employers                                  38312 non-null int64\n",
      "promoted_or_not                                           38312 non-null int64\n",
      "age                                                       38312 non-null int64\n",
      "working_for                                               38312 non-null int64\n",
      "is_female                                                 38312 non-null int64\n",
      "schooled_abroad                                           38312 non-null int64\n",
      "is_married                                                38312 non-null int64\n",
      "was_disciplined                                           38312 non-null int64\n",
      "was_moved                                                 38312 non-null int64\n",
      "channel_of_recruitment_Agency and others                  38312 non-null int64\n",
      "channel_of_recruitment_Direct Internal process            38312 non-null int64\n",
      "channel_of_recruitment_Referral and Special candidates    38312 non-null int64\n",
      "qualification_First Degree or HND                         38312 non-null int64\n",
      "qualification_MSc, MBA and PhD                            38312 non-null int64\n",
      "qualification_Non-University Education                    38312 non-null int64\n",
      "dtypes: float64(1), int64(19), object(1)\n",
      "memory usage: 6.1+ MB\n"
     ]
    }
   ],
   "source": [
    "train_df.info()"
   ]
  },
  {
   "cell_type": "code",
   "execution_count": 53,
   "metadata": {},
   "outputs": [
    {
     "name": "stdout",
     "output_type": "stream",
     "text": [
      "<class 'pandas.core.frame.DataFrame'>\n",
      "RangeIndex: 16496 entries, 0 to 16495\n",
      "Data columns (total 20 columns):\n",
      "employeeno                                                16496 non-null object\n",
      "trainings_attended                                        16496 non-null int64\n",
      "last_performance_score                                    16496 non-null float64\n",
      "targets_met                                               16496 non-null int64\n",
      "previous_award                                            16496 non-null int64\n",
      "training_score_average                                    16496 non-null int64\n",
      "no_of_previous_employers                                  16496 non-null int64\n",
      "age                                                       16496 non-null int64\n",
      "working_for                                               16496 non-null int64\n",
      "is_female                                                 16496 non-null int64\n",
      "schooled_abroad                                           16496 non-null int64\n",
      "is_married                                                16496 non-null int64\n",
      "was_disciplined                                           16496 non-null int64\n",
      "was_moved                                                 16496 non-null int64\n",
      "channel_of_recruitment_Agency and others                  16496 non-null int64\n",
      "channel_of_recruitment_Direct Internal process            16496 non-null int64\n",
      "channel_of_recruitment_Referral and Special candidates    16496 non-null int64\n",
      "qualification_First Degree or HND                         16496 non-null int64\n",
      "qualification_MSc, MBA and PhD                            16496 non-null int64\n",
      "qualification_Non-University Education                    16496 non-null int64\n",
      "dtypes: float64(1), int64(18), object(1)\n",
      "memory usage: 2.5+ MB\n"
     ]
    }
   ],
   "source": [
    "test_df.info()"
   ]
  },
  {
   "cell_type": "code",
   "execution_count": 54,
   "metadata": {},
   "outputs": [
    {
     "data": {
      "text/plain": [
       "((38312, 19), (38312,))"
      ]
     },
     "execution_count": 54,
     "metadata": {},
     "output_type": "execute_result"
    }
   ],
   "source": [
    "(X.shape, y.shape)"
   ]
  },
  {
   "cell_type": "code",
   "execution_count": 55,
   "metadata": {},
   "outputs": [
    {
     "name": "stdout",
     "output_type": "stream",
     "text": [
      "(30649, 19) (30649,)\n",
      "(7663, 19) (7663,)\n"
     ]
    }
   ],
   "source": [
    "#train test split\n",
    "from sklearn.model_selection import train_test_split\n",
    "\n",
    "X_train, X_test, y_train, y_test = train_test_split(X, y, test_size = 0.2, random_state = 0)\n",
    "\n",
    "print(X_train.shape, y_train.shape)\n",
    "print(X_test.shape, y_test.shape)"
   ]
  },
  {
   "cell_type": "code",
   "execution_count": 56,
   "metadata": {},
   "outputs": [
    {
     "name": "stdout",
     "output_type": "stream",
     "text": [
      "0.08434206662533851 0.08560615946757144\n"
     ]
    }
   ],
   "source": [
    "print(np.mean(y_train), np.mean(y_test))"
   ]
  },
  {
   "cell_type": "markdown",
   "metadata": {},
   "source": [
    "### Baseline Model"
   ]
  },
  {
   "cell_type": "code",
   "execution_count": 57,
   "metadata": {},
   "outputs": [],
   "source": [
    "from sklearn.dummy import DummyClassifier\n",
    "from sklearn.metrics import accuracy_score, confusion_matrix, precision_score, recall_score"
   ]
  },
  {
   "cell_type": "code",
   "execution_count": 58,
   "metadata": {},
   "outputs": [],
   "source": [
    "#creates the model\n",
    "model_dummy = DummyClassifier(strategy='most_frequent', random_state = 0)\n",
    "#training the model\n",
    "model_dummy.fit(X_train,y_train);"
   ]
  },
  {
   "cell_type": "code",
   "execution_count": 59,
   "metadata": {},
   "outputs": [
    {
     "name": "stdout",
     "output_type": "stream",
     "text": [
      "Accuracy Score for the bseline Model :  0.914\n"
     ]
    }
   ],
   "source": [
    "#Basline Accuracy\n",
    "print('Accuracy Score for the bseline Model : {0: .3f}'.format(model_dummy.score(X_test,y_test)))"
   ]
  },
  {
   "cell_type": "code",
   "execution_count": 64,
   "metadata": {},
   "outputs": [],
   "source": [
    "def get_submission_file(model, filename):\n",
    "    #converting to the matrix\n",
    "    #test_x\n",
    "    #make predicitions\n",
    "    predictions = model.predict(test_x)\n",
    "    #dataframe to submit\n",
    "    df_submission = pd.DataFrame({'employeeno':test_df['employeeno'], 'promoted_or_not':predictions})\n",
    "    #submission file .\n",
    "    #change test_x to the dataframe\n",
    "    df_submission.to_csv(filename, index = False)\n"
   ]
  },
  {
   "cell_type": "code",
   "execution_count": 65,
   "metadata": {},
   "outputs": [],
   "source": [
    "get_submission_file(model_dummy, 'dummy_01.csv')"
   ]
  },
  {
   "cell_type": "markdown",
   "metadata": {},
   "source": [
    "### Using Logistic Regression"
   ]
  },
  {
   "cell_type": "code",
   "execution_count": 66,
   "metadata": {},
   "outputs": [],
   "source": [
    "from sklearn.linear_model import LogisticRegression\n",
    "lr_model = LogisticRegression(random_state = 0)"
   ]
  },
  {
   "cell_type": "markdown",
   "metadata": {},
   "source": [
    "### Performance Metrics For Logisitic Regression Model"
   ]
  },
  {
   "cell_type": "code",
   "execution_count": 67,
   "metadata": {},
   "outputs": [
    {
     "name": "stderr",
     "output_type": "stream",
     "text": [
      "C:\\Users\\NOTEBOOK\\Anaconda3\\lib\\site-packages\\sklearn\\linear_model\\logistic.py:432: FutureWarning: Default solver will be changed to 'lbfgs' in 0.22. Specify a solver to silence this warning.\n",
      "  FutureWarning)\n"
     ]
    },
    {
     "name": "stdout",
     "output_type": "stream",
     "text": [
      "Score For logistic Regression : Version 0.0.1 -  0.92\n"
     ]
    }
   ],
   "source": [
    "lr_model.fit(X_train, y_train);\n",
    "print('Score For logistic Regression : Version 0.0.1 - {0: .2f}'. format(lr_model.score(X_test,y_test)))"
   ]
  },
  {
   "cell_type": "code",
   "execution_count": 68,
   "metadata": {},
   "outputs": [
    {
     "name": "stdout",
     "output_type": "stream",
     "text": [
      "accuracy for baseline model:  0.916\n",
      "confusion_matrix for baseline model: \n",
      " [[6970   37]\n",
      " [ 609   47]]\n",
      "precision for baseline model:  0.560\n",
      "recall for baseline model:  0.072\n"
     ]
    }
   ],
   "source": [
    "#ACCURACY\n",
    "print('accuracy for baseline model: {0: .3f}' .format(accuracy_score(y_test, lr_model.predict(X_test))))\n",
    "#CONFUSION MATRIX\n",
    "print('confusion_matrix for baseline model: \\n {0}' .format(confusion_matrix(y_test, lr_model.predict(X_test))))\n",
    "print('precision for baseline model: {0: .3f}' .format(precision_score(y_test, lr_model.predict(X_test))))\n",
    "print('recall for baseline model: {0: .3f}' .format(recall_score(y_test, lr_model.predict(X_test))))"
   ]
  },
  {
   "cell_type": "code",
   "execution_count": 69,
   "metadata": {},
   "outputs": [
    {
     "data": {
      "text/plain": [
       "array([-0.20691582,  0.05872795,  1.46681456,  1.98738583,  0.04213053,\n",
       "        0.0126114 , -0.01847737,  0.02059023,  0.01153804, -0.00300061,\n",
       "        0.05056141,  0.51094307,  0.        , -1.09661156, -1.09056399,\n",
       "       -0.95248709, -1.16895658, -0.93879706, -1.03190901])"
      ]
     },
     "execution_count": 69,
     "metadata": {},
     "output_type": "execute_result"
    }
   ],
   "source": [
    "lr_model.coef_.flatten()"
   ]
  },
  {
   "cell_type": "code",
   "execution_count": 70,
   "metadata": {},
   "outputs": [],
   "source": [
    "get_submission_file(lr_model, 'lr_model.csv');"
   ]
  },
  {
   "cell_type": "code",
   "execution_count": null,
   "metadata": {},
   "outputs": [],
   "source": []
  },
  {
   "cell_type": "code",
   "execution_count": null,
   "metadata": {},
   "outputs": [],
   "source": []
  }
 ],
 "metadata": {
  "kernelspec": {
   "display_name": "Python 3",
   "language": "python",
   "name": "python3"
  },
  "language_info": {
   "codemirror_mode": {
    "name": "ipython",
    "version": 3
   },
   "file_extension": ".py",
   "mimetype": "text/x-python",
   "name": "python",
   "nbconvert_exporter": "python",
   "pygments_lexer": "ipython3",
   "version": "3.7.3"
  }
 },
 "nbformat": 4,
 "nbformat_minor": 2
}
