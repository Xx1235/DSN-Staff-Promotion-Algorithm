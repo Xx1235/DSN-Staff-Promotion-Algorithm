{
 "cells": [
  {
   "cell_type": "markdown",
   "metadata": {},
   "source": [
    "## Titanic Survival : Predicitve Model Notebook [Using Random Forest]\n",
    "**Author**:🧕🏿 Hasanat Owoseni \\\n",
    "**Date** : 14th October, 2019"
   ]
  },
  {
   "cell_type": "code",
   "execution_count": 1,
   "metadata": {},
   "outputs": [],
   "source": [
    "import numpy as np\n",
    "import pandas as pd\n",
    "%matplotlib inline"
   ]
  },
  {
   "cell_type": "code",
   "execution_count": 2,
   "metadata": {},
   "outputs": [],
   "source": [
    "test_df = pd.read_csv('cleaned_test.csv')\n",
    "train_df = pd.read_csv('cleaned_train.csv')"
   ]
  },
  {
   "cell_type": "code",
   "execution_count": 3,
   "metadata": {},
   "outputs": [
    {
     "name": "stdout",
     "output_type": "stream",
     "text": [
      "<class 'pandas.core.frame.DataFrame'>\n",
      "RangeIndex: 38312 entries, 0 to 38311\n",
      "Data columns (total 21 columns):\n",
      "employeeno                                                38312 non-null object\n",
      "trainings_attended                                        38312 non-null int64\n",
      "last_performance_score                                    38312 non-null float64\n",
      "targets_met                                               38312 non-null int64\n",
      "previous_award                                            38312 non-null int64\n",
      "training_score_average                                    38312 non-null int64\n",
      "no_of_previous_employers                                  38312 non-null int64\n",
      "promoted_or_not                                           38312 non-null int64\n",
      "age                                                       38312 non-null int64\n",
      "working_for                                               38312 non-null int64\n",
      "is_female                                                 38312 non-null int64\n",
      "schooled_abroad                                           38312 non-null int64\n",
      "is_married                                                38312 non-null int64\n",
      "was_disciplined                                           38312 non-null int64\n",
      "was_moved                                                 38312 non-null int64\n",
      "channel_of_recruitment_Agency and others                  38312 non-null int64\n",
      "channel_of_recruitment_Direct Internal process            38312 non-null int64\n",
      "channel_of_recruitment_Referral and Special candidates    38312 non-null int64\n",
      "qualification_First Degree or HND                         38312 non-null int64\n",
      "qualification_MSc, MBA and PhD                            38312 non-null int64\n",
      "qualification_Non-University Education                    38312 non-null int64\n",
      "dtypes: float64(1), int64(19), object(1)\n",
      "memory usage: 6.1+ MB\n",
      "<class 'pandas.core.frame.DataFrame'>\n",
      "RangeIndex: 16496 entries, 0 to 16495\n",
      "Data columns (total 20 columns):\n",
      "employeeno                                                16496 non-null object\n",
      "trainings_attended                                        16496 non-null int64\n",
      "last_performance_score                                    16496 non-null float64\n",
      "targets_met                                               16496 non-null int64\n",
      "previous_award                                            16496 non-null int64\n",
      "training_score_average                                    16496 non-null int64\n",
      "no_of_previous_employers                                  16496 non-null int64\n",
      "age                                                       16496 non-null int64\n",
      "working_for                                               16496 non-null int64\n",
      "is_female                                                 16496 non-null int64\n",
      "schooled_abroad                                           16496 non-null int64\n",
      "is_married                                                16496 non-null int64\n",
      "was_disciplined                                           16496 non-null int64\n",
      "was_moved                                                 16496 non-null int64\n",
      "channel_of_recruitment_Agency and others                  16496 non-null int64\n",
      "channel_of_recruitment_Direct Internal process            16496 non-null int64\n",
      "channel_of_recruitment_Referral and Special candidates    16496 non-null int64\n",
      "qualification_First Degree or HND                         16496 non-null int64\n",
      "qualification_MSc, MBA and PhD                            16496 non-null int64\n",
      "qualification_Non-University Education                    16496 non-null int64\n",
      "dtypes: float64(1), int64(18), object(1)\n",
      "memory usage: 2.5+ MB\n"
     ]
    }
   ],
   "source": [
    "test_df.drop(['Unnamed: 0'], axis = 1, inplace = True)\n",
    "train_df.drop(['Unnamed: 0'], axis = 1, inplace = True)\n",
    "train_df.info()\n",
    "test_df.info()"
   ]
  },
  {
   "cell_type": "code",
   "execution_count": 4,
   "metadata": {},
   "outputs": [],
   "source": [
    "columns = [column for column in test_df.columns if column != 'employeeno']\n",
    "test_x = test_df[columns].values.astype('float')\n",
    "\n",
    "test_empid = test_df['employeeno']"
   ]
  },
  {
   "cell_type": "code",
   "execution_count": 5,
   "metadata": {},
   "outputs": [],
   "source": [
    "columns = [column for column in train_df.columns if column != ('promoted_or_not' ) and column !=( 'employeeno')]\n",
    "\n",
    "X = train_df[columns].values.astype('float')\n",
    "s_train = train_df[columns]\n",
    "\n",
    "y = train_df['promoted_or_not']\n",
    "empid = train_df['employeeno']"
   ]
  },
  {
   "cell_type": "code",
   "execution_count": 6,
   "metadata": {},
   "outputs": [
    {
     "name": "stdout",
     "output_type": "stream",
     "text": [
      "(16496, 19)\n",
      "(38312, 19)\n",
      "<class 'pandas.core.frame.DataFrame'>\n",
      "RangeIndex: 38312 entries, 0 to 38311\n",
      "Data columns (total 19 columns):\n",
      "trainings_attended                                        38312 non-null int64\n",
      "last_performance_score                                    38312 non-null float64\n",
      "targets_met                                               38312 non-null int64\n",
      "previous_award                                            38312 non-null int64\n",
      "training_score_average                                    38312 non-null int64\n",
      "no_of_previous_employers                                  38312 non-null int64\n",
      "age                                                       38312 non-null int64\n",
      "working_for                                               38312 non-null int64\n",
      "is_female                                                 38312 non-null int64\n",
      "schooled_abroad                                           38312 non-null int64\n",
      "is_married                                                38312 non-null int64\n",
      "was_disciplined                                           38312 non-null int64\n",
      "was_moved                                                 38312 non-null int64\n",
      "channel_of_recruitment_Agency and others                  38312 non-null int64\n",
      "channel_of_recruitment_Direct Internal process            38312 non-null int64\n",
      "channel_of_recruitment_Referral and Special candidates    38312 non-null int64\n",
      "qualification_First Degree or HND                         38312 non-null int64\n",
      "qualification_MSc, MBA and PhD                            38312 non-null int64\n",
      "qualification_Non-University Education                    38312 non-null int64\n",
      "dtypes: float64(1), int64(18)\n",
      "memory usage: 5.6 MB\n"
     ]
    }
   ],
   "source": [
    "print(test_x.shape)\n",
    "print(X.shape)\n",
    "s_train.info()"
   ]
  },
  {
   "cell_type": "code",
   "execution_count": 7,
   "metadata": {},
   "outputs": [],
   "source": [
    "from sklearn.model_selection import train_test_split\n",
    "# implementing train-test-split\n",
    "X_train, X_test, y_train, y_test = train_test_split(X, y, test_size=0.33, random_state=66)"
   ]
  },
  {
   "cell_type": "code",
   "execution_count": 8,
   "metadata": {},
   "outputs": [
    {
     "name": "stderr",
     "output_type": "stream",
     "text": [
      "C:\\Users\\NOTEBOOK\\Anaconda3\\lib\\site-packages\\sklearn\\ensemble\\forest.py:245: FutureWarning: The default value of n_estimators will change from 10 in version 0.20 to 100 in 0.22.\n",
      "  \"10 in version 0.20 to 100 in 0.22.\", FutureWarning)\n"
     ]
    }
   ],
   "source": [
    "# random forest model creation\n",
    "from sklearn.ensemble import RandomForestClassifier\n",
    "rfc = RandomForestClassifier()\n",
    "\n",
    "rfc.fit(X_train,y_train)\n",
    "\n",
    "# predictions\n",
    "rfc_predict = rfc.predict(test_x)"
   ]
  },
  {
   "cell_type": "code",
   "execution_count": 9,
   "metadata": {},
   "outputs": [],
   "source": [
    "from sklearn.model_selection import cross_val_score\n",
    "from sklearn.metrics import classification_report, confusion_matrix"
   ]
  },
  {
   "cell_type": "code",
   "execution_count": 16,
   "metadata": {},
   "outputs": [
    {
     "name": "stdout",
     "output_type": "stream",
     "text": [
      "=== Confusion Matrix ===\n",
      "[[11458   144]\n",
      " [  885   156]]\n",
      "\n",
      "\n",
      "=== Classification Report ===\n",
      "              precision    recall  f1-score   support\n",
      "\n",
      "           0       0.93      0.99      0.96     11602\n",
      "           1       0.52      0.15      0.23      1041\n",
      "\n",
      "    accuracy                           0.92     12643\n",
      "   macro avg       0.72      0.57      0.59     12643\n",
      "weighted avg       0.89      0.92      0.90     12643\n",
      "\n",
      "\n",
      "\n",
      "=== All AUC Scores ===\n",
      "[0.73045478 0.71822097 0.72975874 0.75225695 0.7255687  0.75614996\n",
      " 0.7440265  0.74445025 0.74331584 0.76111622]\n",
      "\n",
      "\n",
      "=== Mean AUC Score ===\n",
      "Mean AUC Score - Random Forest:  0.7405318901232063\n"
     ]
    }
   ],
   "source": [
    "xrcc =  rfc.predict(X_test)\n",
    "rfc_cv_score = cross_val_score(rfc, X, y, cv=10, scoring='roc_auc')\n",
    "print(\"=== Confusion Matrix ===\")\n",
    "print(confusion_matrix(y_test,xrcc ))\n",
    "print('\\n')\n",
    "\n",
    "print(\"=== Classification Report ===\")\n",
    "print(classification_report(y_test, xrcc))\n",
    "print('\\n')\n",
    "print(\"=== All AUC Scores ===\")\n",
    "print(rfc_cv_score)\n",
    "print('\\n')\n",
    "print(\"=== Mean AUC Score ===\")\n",
    "print(\"Mean AUC Score - Random Forest: \", rfc_cv_score.mean())"
   ]
  },
  {
   "cell_type": "code",
   "execution_count": null,
   "metadata": {},
   "outputs": [],
   "source": [
    "df_submission = pd.DataFrame({'employeeno':test_df['employeeno'], 'promoted_or_not':rfc_predict})\n",
    "df_submission.to_csv('randomforest.csv', index = False)"
   ]
  },
  {
   "cell_type": "markdown",
   "metadata": {},
   "source": [
    "----------------------------------"
   ]
  },
  {
   "cell_type": "code",
   "execution_count": 19,
   "metadata": {},
   "outputs": [],
   "source": [
    "from sklearn.model_selection import RandomizedSearchCV\n",
    "# number of trees in random forest\n",
    "n_estimators = [int(x) for x in np.linspace(start = 200, stop = 2000, num = 10)]\n",
    "# number of features at every split\n",
    "max_features = ['auto', 'sqrt']\n",
    "\n",
    "# max depth\n",
    "max_depth = [int(x) for x in np.linspace(100, 500, num = 11)]\n",
    "max_depth.append(None)\n",
    "# create random grid\n",
    "random_grid = {\n",
    " 'n_estimators': n_estimators,\n",
    " 'max_features': max_features,\n",
    " 'max_depth': max_depth\n",
    " }\n"
   ]
  },
  {
   "cell_type": "code",
   "execution_count": 21,
   "metadata": {},
   "outputs": [],
   "source": [
    "# Random search of parameters\n",
    "rfc_random = RandomizedSearchCV(estimator = rfc, param_distributions = random_grid, n_iter = 300, cv = 3, verbose=2, random_state=42, n_jobs = -1)"
   ]
  },
  {
   "cell_type": "code",
   "execution_count": 22,
   "metadata": {},
   "outputs": [
    {
     "name": "stdout",
     "output_type": "stream",
     "text": [
      "Fitting 3 folds for each of 30 candidates, totalling 90 fits\n"
     ]
    },
    {
     "name": "stderr",
     "output_type": "stream",
     "text": [
      "[Parallel(n_jobs=-1)]: Using backend LokyBackend with 4 concurrent workers.\n",
      "[Parallel(n_jobs=-1)]: Done  33 tasks      | elapsed:  7.6min\n",
      "[Parallel(n_jobs=-1)]: Done  90 out of  90 | elapsed: 17.1min finished\n"
     ]
    },
    {
     "name": "stdout",
     "output_type": "stream",
     "text": [
      "{'n_estimators': 800, 'max_features': 'sqrt', 'max_depth': None}\n"
     ]
    }
   ],
   "source": [
    "# Fit the model\n",
    "rfc_random.fit(X_train, y_train)\n",
    "# print results\n",
    "print(rfc_random.best_params_)"
   ]
  },
  {
   "cell_type": "code",
   "execution_count": 23,
   "metadata": {},
   "outputs": [],
   "source": [
    "rfc = RandomForestClassifier(n_estimators=600, max_depth=300, max_features='sqrt')\n",
    "rfc.fit(X_train,y_train)\n",
    "rfc_predict = rfc.predict(test_x)"
   ]
  },
  {
   "cell_type": "code",
   "execution_count": 24,
   "metadata": {},
   "outputs": [],
   "source": [
    "df_submission = pd.DataFrame({'employeeno':test_df['employeeno'], 'promoted_or_not':rfc_predict})\n",
    "df_submission.to_csv('rando.csv', index = False)"
   ]
  },
  {
   "cell_type": "code",
   "execution_count": 32,
   "metadata": {},
   "outputs": [],
   "source": [
    "rfc = RandomForestClassifier(n_estimators=300, max_depth=10000, max_features='sqrt')\n",
    "rfc.fit(X_train,y_train)\n",
    "rfc_predict = rfc.predict(test_x)\n",
    "df_submission = pd.DataFrame({'employeeno':test_df['employeeno'], 'promoted_or_not':rfc_predict})\n",
    "df_submission.to_csv('rando2.csv', index = False)"
   ]
  },
  {
   "cell_type": "code",
   "execution_count": null,
   "metadata": {},
   "outputs": [],
   "source": []
  },
  {
   "cell_type": "code",
   "execution_count": null,
   "metadata": {},
   "outputs": [],
   "source": []
  }
 ],
 "metadata": {
  "kernelspec": {
   "display_name": "Python 3",
   "language": "python",
   "name": "python3"
  },
  "language_info": {
   "codemirror_mode": {
    "name": "ipython",
    "version": 3
   },
   "file_extension": ".py",
   "mimetype": "text/x-python",
   "name": "python",
   "nbconvert_exporter": "python",
   "pygments_lexer": "ipython3",
   "version": "3.7.3"
  }
 },
 "nbformat": 4,
 "nbformat_minor": 2
}
