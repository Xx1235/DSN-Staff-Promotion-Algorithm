{
 "cells": [
  {
   "cell_type": "markdown",
   "metadata": {},
   "source": [
    "### Logisitic Regrssion"
   ]
  },
  {
   "cell_type": "code",
   "execution_count": 1,
   "metadata": {},
   "outputs": [],
   "source": [
    "import numpy as np\n",
    "import pandas as pd\n",
    "import pickle\n",
    "%matplotlib inline"
   ]
  },
  {
   "cell_type": "code",
   "execution_count": 2,
   "metadata": {},
   "outputs": [],
   "source": [
    "test_df = pd.read_csv('cleaned_test.csv')\n",
    "train_df = pd.read_csv('cleaned_train.csv')"
   ]
  },
  {
   "cell_type": "code",
   "execution_count": 3,
   "metadata": {},
   "outputs": [
    {
     "name": "stdout",
     "output_type": "stream",
     "text": [
      "<class 'pandas.core.frame.DataFrame'>\n",
      "RangeIndex: 38312 entries, 0 to 38311\n",
      "Data columns (total 17 columns):\n",
      "trainings_attended          38312 non-null int64\n",
      "targets_met                 38312 non-null int64\n",
      "previous_award              38312 non-null int64\n",
      "training_score_average      38312 non-null int64\n",
      "no_of_previous_employers    38312 non-null int64\n",
      "promoted_or_not             38312 non-null int64\n",
      "age                         38312 non-null int64\n",
      "last_performance_score      38312 non-null float64\n",
      "working_for                 38312 non-null int64\n",
      "qualification               38312 non-null int64\n",
      "channel_of_recruitment      38312 non-null int64\n",
      "is_female                   38312 non-null int64\n",
      "schooled_abroad             38312 non-null int64\n",
      "is_married                  38312 non-null int64\n",
      "was_disciplined             38312 non-null int64\n",
      "was_moved                   38312 non-null int64\n",
      "division                    38312 non-null int64\n",
      "dtypes: float64(1), int64(16)\n",
      "memory usage: 5.0 MB\n",
      "<class 'pandas.core.frame.DataFrame'>\n",
      "RangeIndex: 16496 entries, 0 to 16495\n",
      "Data columns (total 16 columns):\n",
      "trainings_attended          16496 non-null int64\n",
      "targets_met                 16496 non-null int64\n",
      "previous_award              16496 non-null int64\n",
      "training_score_average      16496 non-null int64\n",
      "no_of_previous_employers    16496 non-null int64\n",
      "age                         16496 non-null int64\n",
      "last_performance_score      16496 non-null float64\n",
      "working_for                 16496 non-null int64\n",
      "qualification               16496 non-null int64\n",
      "channel_of_recruitment      16496 non-null int64\n",
      "is_female                   16496 non-null int64\n",
      "schooled_abroad             16496 non-null int64\n",
      "is_married                  16496 non-null int64\n",
      "was_disciplined             16496 non-null int64\n",
      "was_moved                   16496 non-null int64\n",
      "division                    16496 non-null int64\n",
      "dtypes: float64(1), int64(15)\n",
      "memory usage: 2.0 MB\n"
     ]
    }
   ],
   "source": [
    "test_df.drop(['Unnamed: 0'], axis = 1, inplace = True)\n",
    "train_df.drop(['Unnamed: 0'], axis = 1, inplace = True)\n",
    "train_df.info()\n",
    "test_df.info()"
   ]
  },
  {
   "cell_type": "code",
   "execution_count": 4,
   "metadata": {},
   "outputs": [],
   "source": [
    "df_test = pd.read_csv('test.csv')\n",
    "df_train = pd.read_csv('train.csv')"
   ]
  },
  {
   "cell_type": "code",
   "execution_count": 5,
   "metadata": {},
   "outputs": [],
   "source": [
    "columns = [column for column in test_df.columns if column != 'employeeno']\n",
    "test_x = test_df[columns].values.astype('float')\n",
    "\n",
    "test_empid = df_test['EmployeeNo']\n",
    "#what test x should be \n",
    "s_test_x = test_df.loc[: ,'trainings_attended':].values.astype('float')"
   ]
  },
  {
   "cell_type": "code",
   "execution_count": 6,
   "metadata": {},
   "outputs": [],
   "source": [
    "columns = [column for column in train_df.columns if column != ('promoted_or_not' ) and column !=( 'employeeno')]\n",
    "\n",
    "X = train_df[columns].values.astype('float')\n",
    "s_train = train_df[columns]\n",
    "\n",
    "y = train_df['promoted_or_not']\n",
    "empid = df_train['EmployeeNo']"
   ]
  },
  {
   "cell_type": "code",
   "execution_count": 7,
   "metadata": {},
   "outputs": [
    {
     "name": "stdout",
     "output_type": "stream",
     "text": [
      "(30649, 16) (30649,)\n",
      "(7663, 16) (7663,)\n"
     ]
    }
   ],
   "source": [
    "#train test split\n",
    "from sklearn.model_selection import train_test_split\n",
    "\n",
    "X_train, X_test, y_train, y_test = train_test_split(X, y, test_size = 0.2, random_state = 0)\n",
    "print(X_train.shape, y_train.shape)\n",
    "print(X_test.shape, y_test.shape)"
   ]
  },
  {
   "cell_type": "code",
   "execution_count": 8,
   "metadata": {},
   "outputs": [
    {
     "data": {
      "text/plain": [
       "\"\\n# Loading model to compare the results\\nmodel = pickle.load(open('model.pkl','rb'))\\nprint(model.predict([[2, 9, 6]]))\\n\""
      ]
     },
     "execution_count": 8,
     "metadata": {},
     "output_type": "execute_result"
    }
   ],
   "source": [
    "from sklearn.linear_model import LinearRegression\n",
    "regressor = LinearRegression()\n",
    "\n",
    "#Fitting model with trainig data\n",
    "regressor.fit(X, y)\n",
    "\n",
    "# Saving model to disk\n",
    "pickle.dump(regressor, open('m.pkl','wb'))\n",
    "\n",
    "'''\n",
    "# Loading model to compare the results\n",
    "model = pickle.load(open('model.pkl','rb'))\n",
    "print(model.predict([[2, 9, 6]]))\n",
    "'''\n"
   ]
  },
  {
   "cell_type": "code",
   "execution_count": null,
   "metadata": {},
   "outputs": [],
   "source": []
  }
 ],
 "metadata": {
  "kernelspec": {
   "display_name": "Python 3",
   "language": "python",
   "name": "python3"
  },
  "language_info": {
   "codemirror_mode": {
    "name": "ipython",
    "version": 3
   },
   "file_extension": ".py",
   "mimetype": "text/x-python",
   "name": "python",
   "nbconvert_exporter": "python",
   "pygments_lexer": "ipython3",
   "version": "3.7.3"
  }
 },
 "nbformat": 4,
 "nbformat_minor": 2
}
